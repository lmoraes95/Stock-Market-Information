{
 "cells": [
  {
   "cell_type": "code",
   "execution_count": 1,
   "metadata": {},
   "outputs": [],
   "source": [
    "from splinter import Browser\n",
    "from bs4 import BeautifulSoup as bs\n",
    "from webdriver_manager.chrome import ChromeDriverManager\n",
    "import time\n",
    "from flask import Flask, render_template\n",
    "import pymongo"
   ]
  },
  {
   "cell_type": "code",
   "execution_count": 2,
   "metadata": {},
   "outputs": [],
   "source": [
    "#Splinter Setup\n",
    "executable_path = {'executable_path': ChromeDriverManager().install()}\n",
    "browser = Browser('chrome', **executable_path, headless=False)"
   ]
  },
  {
   "cell_type": "code",
   "execution_count": 3,
   "metadata": {},
   "outputs": [],
   "source": [
    "#Site to Scrape\n",
    "url = \"https://www.cnn.com/business/investing\"\n",
    "browser.visit(url)"
   ]
  },
  {
   "cell_type": "code",
   "execution_count": 4,
   "metadata": {},
   "outputs": [],
   "source": [
    "#Applying to Soup\n",
    "html = browser.html\n",
    "soup = bs(html, \"html.parser\")"
   ]
  },
  {
   "cell_type": "code",
   "execution_count": 5,
   "metadata": {},
   "outputs": [],
   "source": [
    "time.sleep(2)"
   ]
  },
  {
   "cell_type": "code",
   "execution_count": 6,
   "metadata": {},
   "outputs": [
    {
     "data": {
      "text/plain": [
       "[<div class=\"container__headline container_lead-plus-headlines-with-images__headline\" data-editable=\"headline\">\n",
       "           What midterm elections could mean for the US economy\n",
       "       </div>,\n",
       " <div class=\"container__headline container_lead-plus-headlines-with-images__headline\" data-editable=\"headline\">\n",
       "           Taiwan's virtual beauty brand struggles on Wall Street debut\n",
       "       </div>,\n",
       " <div class=\"container__headline container_lead-plus-headlines-with-images__headline\" data-editable=\"headline\">\n",
       "           Biden's stock market record so far is the second worst since Jimmy Carter\n",
       "       </div>,\n",
       " <div class=\"container__headline container_lead-plus-headlines-with-images__headline\" data-editable=\"headline\">\n",
       "           What will the Fed do next? Follow the economy, not what Jerome Powell says\n",
       "       </div>,\n",
       " <div class=\"container__headline container_lead-plus-headlines-with-images__headline\" data-editable=\"headline\">\n",
       "           What the wave of tech layoffs tell us about the economy\n",
       "       </div>,\n",
       " <div class=\"container__headline container_lead-plus-headlines-with-images__headline\" data-editable=\"headline\">\n",
       "           Why is the Powerball prize at a record? Thank Fed Chairman Jerome Powell\n",
       "       </div>,\n",
       " <div class=\"container__headline container_lead-plus-headlines-with-images__headline\" data-editable=\"headline\">\n",
       "           How the midterms could affect Wall Street\n",
       "       </div>,\n",
       " <div class=\"container__headline container_lead-plus-headlines-with-images__headline\" data-editable=\"headline\">\n",
       "           Puma's outgoing CEO could lead rival Adidas next\n",
       "       </div>]"
      ]
     },
     "execution_count": 6,
     "metadata": {},
     "output_type": "execute_result"
    }
   ],
   "source": [
    "#Retriving Title *Does each title need its on dictionary entry?\n",
    "articles = soup.find_all('div', class_=\"container__headline container_lead-plus-headlines-with-images__headline\")\n",
    "articles"
   ]
  },
  {
   "cell_type": "code",
   "execution_count": 7,
   "metadata": {},
   "outputs": [
    {
     "data": {
      "text/plain": [
       "'What midterm elections could mean for the US economy'"
      ]
     },
     "execution_count": 7,
     "metadata": {},
     "output_type": "execute_result"
    }
   ],
   "source": [
    "articles[0].text.strip()"
   ]
  },
  {
   "cell_type": "code",
   "execution_count": 18,
   "metadata": {},
   "outputs": [
    {
     "name": "stdout",
     "output_type": "stream",
     "text": [
      "['What midterm elections could mean for the US economy', \"Taiwan's virtual beauty brand struggles on Wall Street debut\", \"Biden's stock market record so far is the second worst since Jimmy Carter\", 'What will the Fed do next? Follow the economy, not what Jerome Powell says', 'What the wave of tech layoffs tell us about the economy', 'Why is the Powerball prize at a record? Thank Fed Chairman Jerome Powell', 'How the midterms could affect Wall Street', \"Puma's outgoing CEO could lead rival Adidas next\"]\n"
     ]
    }
   ],
   "source": [
    "newsTitles= []\n",
    "\n",
    "for title in articles:\n",
    "    newsTitles.append(title.text.strip())\n",
    "print(newsTitles)"
   ]
  },
  {
   "cell_type": "code",
   "execution_count": 9,
   "metadata": {},
   "outputs": [
    {
     "data": {
      "text/plain": [
       "[<a class=\"container__link container_lead-plus-headlines-with-images__link\" href=\"/2022/11/08/investing/premarket-stocks-trading\">\n",
       " <div class=\"container__item-media-wrapper container_lead-plus-headlines-with-images__item-media-wrapper\">\n",
       " <div class=\"container__item-media container_lead-plus-headlines-with-images__item-media\">\n",
       " <div class=\"image__container image image--eq-extra-small image--eq-small\" data-breakpoints='{\"image--eq-extra-small\": 115, \"image--eq-small\": 300}' data-image-variation=\"image\">\n",
       " <picture class=\"image__picture\"><source media=\"(min-width: 1280px)\" srcset=\"https://media.cnn.com/api/v1/images/stellar/prod/221107164023-restricted-midterm-elections-early-voting-1106.jpg?c=16x9&amp;q=h_720,w_1280,c_fill\"/><source media=\"(min-width: 960px)\" srcset=\"https://media.cnn.com/api/v1/images/stellar/prod/221107164023-restricted-midterm-elections-early-voting-1106.jpg?c=16x9&amp;q=h_540,w_960,c_fill\"/><source media=\"(-webkit-min-device-pixel-ratio: 2)\" srcset=\"https://media.cnn.com/api/v1/images/stellar/prod/221107164023-restricted-midterm-elections-early-voting-1106.jpg?c=16x9&amp;q=h_270,w_480,c_fill\"/><img alt=\"\" class=\"image__dam-img\" src=\"https://media.cnn.com/api/v1/images/stellar/prod/221107164023-restricted-midterm-elections-early-voting-1106.jpg?c=16x9&amp;q=h_270,w_480,c_fill\"/></picture>\n",
       " </div>\n",
       " <div class=\"image__metadata\">\n",
       " <figcaption class=\"image__credit\">Michael Brochstein/SOPA Images/Shutterstock</figcaption>\n",
       " </div>\n",
       " </div>\n",
       " </div>\n",
       " <div class=\"container__text container_lead-plus-headlines-with-images__text\">\n",
       " <div class=\"container__headline container_lead-plus-headlines-with-images__headline\" data-editable=\"headline\">\n",
       "           What midterm elections could mean for the US economy\n",
       "       </div>\n",
       " </div>\n",
       " </a>,\n",
       " <a class=\"container__link container_lead-plus-headlines-with-images__link\" href=\"/2022/11/08/investing/perfect-corp-taiwan-nyse-debut-intl-hnk\">\n",
       " <div class=\"container__item-media-wrapper container_lead-plus-headlines-with-images__item-media-wrapper\">\n",
       " <div class=\"container__item-media container_lead-plus-headlines-with-images__item-media\">\n",
       " <div class=\"image__container image image--eq-extra-small\" data-breakpoints='{\"image--eq-extra-small\": 115, \"image--eq-small\": 300}' data-image-variation=\"image\">\n",
       " <picture class=\"image__picture\"><source media=\"(min-width: 1280px)\" srcset=\"https://media.cnn.com/api/v1/images/stellar/prod/221101103517-taiwan-unicorn-perfect-corp.jpg?c=16x9&amp;q=h_720,w_1280,c_fill\"/><source media=\"(min-width: 960px)\" srcset=\"https://media.cnn.com/api/v1/images/stellar/prod/221101103517-taiwan-unicorn-perfect-corp.jpg?c=16x9&amp;q=h_540,w_960,c_fill\"/><source media=\"(-webkit-min-device-pixel-ratio: 2)\" srcset=\"https://media.cnn.com/api/v1/images/stellar/prod/221101103517-taiwan-unicorn-perfect-corp.jpg?c=16x9&amp;q=h_270,w_480,c_fill\"/><img alt=\"\" class=\"image__dam-img\" src=\"https://media.cnn.com/api/v1/images/stellar/prod/221101103517-taiwan-unicorn-perfect-corp.jpg?c=16x9&amp;q=h_270,w_480,c_fill\"/></picture>\n",
       " </div>\n",
       " <div class=\"image__metadata\">\n",
       " <figcaption class=\"image__credit\">Nicole Pereira/NYSE/Perfect Corp</figcaption>\n",
       " </div>\n",
       " </div>\n",
       " </div>\n",
       " <div class=\"container__text container_lead-plus-headlines-with-images__text\">\n",
       " <div class=\"container__headline container_lead-plus-headlines-with-images__headline\" data-editable=\"headline\">\n",
       "           Taiwan's virtual beauty brand struggles on Wall Street debut\n",
       "       </div>\n",
       " </div>\n",
       " </a>,\n",
       " <a class=\"container__link container_lead-plus-headlines-with-images__link\" href=\"/2022/11/07/investing/stock-market-biden\">\n",
       " <div class=\"container__item-media-wrapper container_lead-plus-headlines-with-images__item-media-wrapper\">\n",
       " <div class=\"container__item-media container_lead-plus-headlines-with-images__item-media\">\n",
       " <div class=\"image__container image image--eq-extra-small\" data-breakpoints='{\"image--eq-extra-small\": 115, \"image--eq-small\": 300}' data-image-variation=\"image\">\n",
       " <picture class=\"image__picture\"><source media=\"(min-width: 1280px)\" srcset=\"https://media.cnn.com/api/v1/images/stellar/prod/221107151022-01-joe-biden-1105.jpg?c=16x9&amp;q=h_720,w_1280,c_fill\"/><source media=\"(min-width: 960px)\" srcset=\"https://media.cnn.com/api/v1/images/stellar/prod/221107151022-01-joe-biden-1105.jpg?c=16x9&amp;q=h_540,w_960,c_fill\"/><source media=\"(-webkit-min-device-pixel-ratio: 2)\" srcset=\"https://media.cnn.com/api/v1/images/stellar/prod/221107151022-01-joe-biden-1105.jpg?c=16x9&amp;q=h_270,w_480,c_fill\"/><img alt=\"\" class=\"image__dam-img\" src=\"https://media.cnn.com/api/v1/images/stellar/prod/221107151022-01-joe-biden-1105.jpg?c=16x9&amp;q=h_270,w_480,c_fill\"/></picture>\n",
       " </div>\n",
       " <div class=\"image__metadata\">\n",
       " <figcaption class=\"image__credit\">Hannah Beier/Reuters</figcaption>\n",
       " </div>\n",
       " </div>\n",
       " </div>\n",
       " <div class=\"container__text container_lead-plus-headlines-with-images__text\">\n",
       " <div class=\"container__headline container_lead-plus-headlines-with-images__headline\" data-editable=\"headline\">\n",
       "           Biden's stock market record so far is the second worst since Jimmy Carter\n",
       "       </div>\n",
       " </div>\n",
       " </a>,\n",
       " <a class=\"container__link container_lead-plus-headlines-with-images__link\" href=\"/2022/11/07/investing/federal-reserve-interest-rate-hikes\">\n",
       " <div class=\"container__item-media-wrapper container_lead-plus-headlines-with-images__item-media-wrapper\">\n",
       " <div class=\"container__item-media container_lead-plus-headlines-with-images__item-media\">\n",
       " <div class=\"image__container image image--eq-extra-small\" data-breakpoints='{\"image--eq-extra-small\": 115, \"image--eq-small\": 300}' data-image-variation=\"image\">\n",
       " <picture class=\"image__picture\"><source media=\"(min-width: 1280px)\" srcset=\"https://media.cnn.com/api/v1/images/stellar/prod/221102144928-02-jerome-powell-federal-reserve-interest-rates-hike-1102.jpg?c=16x9&amp;q=h_720,w_1280,c_fill\"/><source media=\"(min-width: 960px)\" srcset=\"https://media.cnn.com/api/v1/images/stellar/prod/221102144928-02-jerome-powell-federal-reserve-interest-rates-hike-1102.jpg?c=16x9&amp;q=h_540,w_960,c_fill\"/><source media=\"(-webkit-min-device-pixel-ratio: 2)\" srcset=\"https://media.cnn.com/api/v1/images/stellar/prod/221102144928-02-jerome-powell-federal-reserve-interest-rates-hike-1102.jpg?c=16x9&amp;q=h_270,w_480,c_fill\"/><img alt=\"\" class=\"image__dam-img\" src=\"https://media.cnn.com/api/v1/images/stellar/prod/221102144928-02-jerome-powell-federal-reserve-interest-rates-hike-1102.jpg?c=16x9&amp;q=h_270,w_480,c_fill\"/></picture>\n",
       " </div>\n",
       " <div class=\"image__metadata\">\n",
       " <figcaption class=\"image__credit\">Patrick Semansky/AP</figcaption>\n",
       " </div>\n",
       " </div>\n",
       " </div>\n",
       " <div class=\"container__text container_lead-plus-headlines-with-images__text\">\n",
       " <div class=\"container__headline container_lead-plus-headlines-with-images__headline\" data-editable=\"headline\">\n",
       "           What will the Fed do next? Follow the economy, not what Jerome Powell says\n",
       "       </div>\n",
       " </div>\n",
       " </a>,\n",
       " <a class=\"container__link container_lead-plus-headlines-with-images__link\" href=\"/2022/11/07/investing/premarket-stocks-trading\">\n",
       " <div class=\"container__item-media-wrapper container_lead-plus-headlines-with-images__item-media-wrapper\">\n",
       " <div class=\"container__item-media container_lead-plus-headlines-with-images__item-media\">\n",
       " <div class=\"image__container image image--eq-extra-small\" data-breakpoints='{\"image--eq-extra-small\": 115, \"image--eq-small\": 300}' data-image-variation=\"image\">\n",
       " <picture class=\"image__picture\"><source media=\"(min-width: 1280px)\" srcset=\"https://media.cnn.com/api/v1/images/stellar/prod/220928144251-01-office-worker-laptop-stock.jpg?c=16x9&amp;q=h_720,w_1280,c_fill\"/><source media=\"(min-width: 960px)\" srcset=\"https://media.cnn.com/api/v1/images/stellar/prod/220928144251-01-office-worker-laptop-stock.jpg?c=16x9&amp;q=h_540,w_960,c_fill\"/><source media=\"(-webkit-min-device-pixel-ratio: 2)\" srcset=\"https://media.cnn.com/api/v1/images/stellar/prod/220928144251-01-office-worker-laptop-stock.jpg?c=16x9&amp;q=h_270,w_480,c_fill\"/><img alt=\"\" class=\"image__dam-img\" src=\"https://media.cnn.com/api/v1/images/stellar/prod/220928144251-01-office-worker-laptop-stock.jpg?c=16x9&amp;q=h_270,w_480,c_fill\"/></picture>\n",
       " </div>\n",
       " <div class=\"image__metadata\">\n",
       " <figcaption class=\"image__credit\">Adobe Stock</figcaption>\n",
       " </div>\n",
       " </div>\n",
       " </div>\n",
       " <div class=\"container__text container_lead-plus-headlines-with-images__text\">\n",
       " <div class=\"container__headline container_lead-plus-headlines-with-images__headline\" data-editable=\"headline\">\n",
       "           What the wave of tech layoffs tell us about the economy\n",
       "       </div>\n",
       " </div>\n",
       " </a>,\n",
       " <a class=\"container__link container_lead-plus-headlines-with-images__link\" href=\"/2022/11/05/investing/powerball-record-prize-fed-interest-rates-ctrp\">\n",
       " <div class=\"container__item-media-wrapper container_lead-plus-headlines-with-images__item-media-wrapper\">\n",
       " <div class=\"container__item-media container_lead-plus-headlines-with-images__item-media\">\n",
       " <div class=\"image__container image image--eq-extra-small\" data-breakpoints='{\"image--eq-extra-small\": 115, \"image--eq-small\": 300}' data-image-variation=\"image\">\n",
       " <picture class=\"image__picture\"><source media=\"(min-width: 1280px)\" srcset=\"https://media.cnn.com/api/v1/images/stellar/prod/221104170131-powerball-lottery-1104.jpg?c=16x9&amp;q=h_720,w_1280,c_fill\"/><source media=\"(min-width: 960px)\" srcset=\"https://media.cnn.com/api/v1/images/stellar/prod/221104170131-powerball-lottery-1104.jpg?c=16x9&amp;q=h_540,w_960,c_fill\"/><source media=\"(-webkit-min-device-pixel-ratio: 2)\" srcset=\"https://media.cnn.com/api/v1/images/stellar/prod/221104170131-powerball-lottery-1104.jpg?c=16x9&amp;q=h_270,w_480,c_fill\"/><img alt=\"\" class=\"image__dam-img\" src=\"https://media.cnn.com/api/v1/images/stellar/prod/221104170131-powerball-lottery-1104.jpg?c=16x9&amp;q=h_270,w_480,c_fill\"/></picture>\n",
       " </div>\n",
       " <div class=\"image__metadata\">\n",
       " <figcaption class=\"image__credit\">David 'Dee' Delgado/Reuters</figcaption>\n",
       " </div>\n",
       " </div>\n",
       " </div>\n",
       " <div class=\"container__text container_lead-plus-headlines-with-images__text\">\n",
       " <div class=\"container__headline container_lead-plus-headlines-with-images__headline\" data-editable=\"headline\">\n",
       "           Why is the Powerball prize at a record? Thank Fed Chairman Jerome Powell\n",
       "       </div>\n",
       " </div>\n",
       " </a>,\n",
       " <a class=\"container__link container_lead-plus-headlines-with-images__link\" href=\"/2022/11/06/investing/stocks-week-ahead\">\n",
       " <div class=\"container__item-media-wrapper container_lead-plus-headlines-with-images__item-media-wrapper\">\n",
       " <div class=\"container__item-media container_lead-plus-headlines-with-images__item-media\">\n",
       " <div class=\"image__container image image--eq-extra-small\" data-breakpoints='{\"image--eq-extra-small\": 115, \"image--eq-small\": 300}' data-image-variation=\"image\">\n",
       " <picture class=\"image__picture\"><source media=\"(min-width: 1280px)\" srcset=\"https://media.cnn.com/api/v1/images/stellar/prod/221103093329-restricted-nyse-1023.jpg?c=16x9&amp;q=h_720,w_1280,c_fill\"/><source media=\"(min-width: 960px)\" srcset=\"https://media.cnn.com/api/v1/images/stellar/prod/221103093329-restricted-nyse-1023.jpg?c=16x9&amp;q=h_540,w_960,c_fill\"/><source media=\"(-webkit-min-device-pixel-ratio: 2)\" srcset=\"https://media.cnn.com/api/v1/images/stellar/prod/221103093329-restricted-nyse-1023.jpg?c=16x9&amp;q=h_270,w_480,c_fill\"/><img alt=\"\" class=\"image__dam-img\" src=\"https://media.cnn.com/api/v1/images/stellar/prod/221103093329-restricted-nyse-1023.jpg?c=16x9&amp;q=h_270,w_480,c_fill\"/></picture>\n",
       " </div>\n",
       " <div class=\"image__metadata\">\n",
       " <figcaption class=\"image__credit\">Beata Zawrzel/NurPhoto/ZUMA Press</figcaption>\n",
       " </div>\n",
       " </div>\n",
       " </div>\n",
       " <div class=\"container__text container_lead-plus-headlines-with-images__text\">\n",
       " <div class=\"container__headline container_lead-plus-headlines-with-images__headline\" data-editable=\"headline\">\n",
       "           How the midterms could affect Wall Street\n",
       "       </div>\n",
       " </div>\n",
       " </a>,\n",
       " <a class=\"container__link container_lead-plus-headlines-with-images__link\" href=\"/2022/11/04/investing/adidas-puma-ceo\">\n",
       " <div class=\"container__item-media-wrapper container_lead-plus-headlines-with-images__item-media-wrapper\">\n",
       " <div class=\"container__item-media container_lead-plus-headlines-with-images__item-media\">\n",
       " <div class=\"image__container image image--eq-extra-small\" data-breakpoints='{\"image--eq-extra-small\": 115, \"image--eq-small\": 300}' data-image-variation=\"image\">\n",
       " <picture class=\"image__picture\"><source media=\"(min-width: 1280px)\" srcset=\"https://media.cnn.com/api/v1/images/stellar/prod/221104120146-bjrn-gulden-puma-ceo-file-restricted.jpg?c=16x9&amp;q=h_720,w_1280,c_fill\"/><source media=\"(min-width: 960px)\" srcset=\"https://media.cnn.com/api/v1/images/stellar/prod/221104120146-bjrn-gulden-puma-ceo-file-restricted.jpg?c=16x9&amp;q=h_540,w_960,c_fill\"/><source media=\"(-webkit-min-device-pixel-ratio: 2)\" srcset=\"https://media.cnn.com/api/v1/images/stellar/prod/221104120146-bjrn-gulden-puma-ceo-file-restricted.jpg?c=16x9&amp;q=h_270,w_480,c_fill\"/><img alt=\"\" class=\"image__dam-img\" src=\"https://media.cnn.com/api/v1/images/stellar/prod/221104120146-bjrn-gulden-puma-ceo-file-restricted.jpg?c=16x9&amp;q=h_270,w_480,c_fill\"/></picture>\n",
       " </div>\n",
       " <div class=\"image__metadata\">\n",
       " <figcaption class=\"image__credit\">Lukas Barth-Tuttas/EPA-EFE/Shutterstock</figcaption>\n",
       " </div>\n",
       " </div>\n",
       " </div>\n",
       " <div class=\"container__text container_lead-plus-headlines-with-images__text\">\n",
       " <div class=\"container__headline container_lead-plus-headlines-with-images__headline\" data-editable=\"headline\">\n",
       "           Puma's outgoing CEO could lead rival Adidas next\n",
       "       </div>\n",
       " </div>\n",
       " </a>]"
      ]
     },
     "execution_count": 9,
     "metadata": {},
     "output_type": "execute_result"
    }
   ],
   "source": [
    "#Retriving article link\n",
    "articlesLink = soup.find_all('a', class_=\"container__link container_lead-plus-headlines-with-images__link\")\n",
    "articlesLink"
   ]
  },
  {
   "cell_type": "code",
   "execution_count": 10,
   "metadata": {},
   "outputs": [
    {
     "name": "stdout",
     "output_type": "stream",
     "text": [
      "['https://www.cnn.com/2022/11/08/investing/premarket-stocks-trading', 'https://www.cnn.com/2022/11/08/investing/perfect-corp-taiwan-nyse-debut-intl-hnk', 'https://www.cnn.com/2022/11/07/investing/stock-market-biden', 'https://www.cnn.com/2022/11/07/investing/federal-reserve-interest-rate-hikes', 'https://www.cnn.com/2022/11/07/investing/premarket-stocks-trading', 'https://www.cnn.com/2022/11/05/investing/powerball-record-prize-fed-interest-rates-ctrp', 'https://www.cnn.com/2022/11/06/investing/stocks-week-ahead', 'https://www.cnn.com/2022/11/04/investing/adidas-puma-ceo']\n"
     ]
    }
   ],
   "source": [
    "urlAdd = \"https://www.cnn.com\"\n",
    "\n",
    "full_link=[]\n",
    "\n",
    "for link in articlesLink:\n",
    "    vlink=link['href']\n",
    "    cleanLink=f\"{urlAdd}{vlink}\"\n",
    "    full_link.append(cleanLink)\n",
    "print(full_link)"
   ]
  },
  {
   "cell_type": "code",
   "execution_count": 11,
   "metadata": {},
   "outputs": [
    {
     "data": {
      "text/plain": [
       "['https://www.cnn.com/2022/11/08/investing/premarket-stocks-trading',\n",
       " 'https://www.cnn.com/2022/11/08/investing/perfect-corp-taiwan-nyse-debut-intl-hnk',\n",
       " 'https://www.cnn.com/2022/11/07/investing/stock-market-biden',\n",
       " 'https://www.cnn.com/2022/11/07/investing/federal-reserve-interest-rate-hikes',\n",
       " 'https://www.cnn.com/2022/11/07/investing/premarket-stocks-trading',\n",
       " 'https://www.cnn.com/2022/11/05/investing/powerball-record-prize-fed-interest-rates-ctrp',\n",
       " 'https://www.cnn.com/2022/11/06/investing/stocks-week-ahead',\n",
       " 'https://www.cnn.com/2022/11/04/investing/adidas-puma-ceo']"
      ]
     },
     "execution_count": 11,
     "metadata": {},
     "output_type": "execute_result"
    }
   ],
   "source": [
    "full_link"
   ]
  }
 ],
 "metadata": {
  "kernelspec": {
   "display_name": "Python 3.9.12 ('base')",
   "language": "python",
   "name": "python3"
  },
  "language_info": {
   "codemirror_mode": {
    "name": "ipython",
    "version": 3
   },
   "file_extension": ".py",
   "mimetype": "text/x-python",
   "name": "python",
   "nbconvert_exporter": "python",
   "pygments_lexer": "ipython3",
   "version": "3.9.12"
  },
  "orig_nbformat": 4,
  "vscode": {
   "interpreter": {
    "hash": "fc86b5c2801142e42bef3458373bb840c9d311c3a92db6c529d1d940c3c80c7f"
   }
  }
 },
 "nbformat": 4,
 "nbformat_minor": 2
}
