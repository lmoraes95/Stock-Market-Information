{
 "cells": [
  {
   "cell_type": "code",
   "execution_count": 1,
   "metadata": {},
   "outputs": [],
   "source": [
    "import pandas as pd\n",
    "import json \n",
    "from  sqlalchemy import create_engine"
   ]
  },
  {
   "cell_type": "markdown",
   "metadata": {},
   "source": [
    "# Extracting CSVs into DataFrames"
   ]
  },
  {
   "cell_type": "code",
   "execution_count": 2,
   "metadata": {},
   "outputs": [
    {
     "data": {
      "text/html": [
       "<div>\n",
       "<style scoped>\n",
       "    .dataframe tbody tr th:only-of-type {\n",
       "        vertical-align: middle;\n",
       "    }\n",
       "\n",
       "    .dataframe tbody tr th {\n",
       "        vertical-align: top;\n",
       "    }\n",
       "\n",
       "    .dataframe thead th {\n",
       "        text-align: right;\n",
       "    }\n",
       "</style>\n",
       "<table border=\"1\" class=\"dataframe\">\n",
       "  <thead>\n",
       "    <tr style=\"text-align: right;\">\n",
       "      <th></th>\n",
       "      <th>symbol</th>\n",
       "      <th>name</th>\n",
       "      <th>reportDate</th>\n",
       "      <th>fiscalDateEnding</th>\n",
       "      <th>estimate</th>\n",
       "      <th>currency</th>\n",
       "    </tr>\n",
       "  </thead>\n",
       "  <tbody>\n",
       "    <tr>\n",
       "      <th>0</th>\n",
       "      <td>A</td>\n",
       "      <td>Agilent Technologies Inc</td>\n",
       "      <td>2022-11-21</td>\n",
       "      <td>2022-10-31</td>\n",
       "      <td>1.3900</td>\n",
       "      <td>USD</td>\n",
       "    </tr>\n",
       "    <tr>\n",
       "      <th>1</th>\n",
       "      <td>AA</td>\n",
       "      <td>Alcoa Corp</td>\n",
       "      <td>2023-01-18</td>\n",
       "      <td>2022-12-31</td>\n",
       "      <td>0.3634</td>\n",
       "      <td>USD</td>\n",
       "    </tr>\n",
       "    <tr>\n",
       "      <th>2</th>\n",
       "      <td>AACAY</td>\n",
       "      <td>AACAY</td>\n",
       "      <td>2022-11-11</td>\n",
       "      <td>2022-09-30</td>\n",
       "      <td>0.0277</td>\n",
       "      <td>USD</td>\n",
       "    </tr>\n",
       "    <tr>\n",
       "      <th>4</th>\n",
       "      <td>AADI</td>\n",
       "      <td>Aadi Bioscience Inc</td>\n",
       "      <td>2022-11-09</td>\n",
       "      <td>2022-09-30</td>\n",
       "      <td>-0.7660</td>\n",
       "      <td>USD</td>\n",
       "    </tr>\n",
       "    <tr>\n",
       "      <th>5</th>\n",
       "      <td>AAGIY</td>\n",
       "      <td>AAGIY</td>\n",
       "      <td>2022-11-30</td>\n",
       "      <td>2022-09-30</td>\n",
       "      <td>0.0000</td>\n",
       "      <td>USD</td>\n",
       "    </tr>\n",
       "  </tbody>\n",
       "</table>\n",
       "</div>"
      ],
      "text/plain": [
       "  symbol                      name  reportDate fiscalDateEnding  estimate  \\\n",
       "0      A  Agilent Technologies Inc  2022-11-21       2022-10-31    1.3900   \n",
       "1     AA                Alcoa Corp  2023-01-18       2022-12-31    0.3634   \n",
       "2  AACAY                     AACAY  2022-11-11       2022-09-30    0.0277   \n",
       "4   AADI       Aadi Bioscience Inc  2022-11-09       2022-09-30   -0.7660   \n",
       "5  AAGIY                     AAGIY  2022-11-30       2022-09-30    0.0000   \n",
       "\n",
       "  currency  \n",
       "0      USD  \n",
       "1      USD  \n",
       "2      USD  \n",
       "4      USD  \n",
       "5      USD  "
      ]
     },
     "execution_count": 2,
     "metadata": {},
     "output_type": "execute_result"
    }
   ],
   "source": [
    "Ear = pd.read_csv(\"earnings_calendar.csv\", encoding='ISO-8859-1')\n",
    "\n",
    "earnings=Ear.dropna()\n",
    "earnings=Ear.dropna(axis=0,how=\"all\")\n",
    "\n",
    "# Reset index after drop\n",
    "earnings=Ear.dropna().reset_index(drop=True)\n",
    "\n",
    "# Drop row that has all NaN values\n",
    "earnings=Ear.dropna(how='all')\n",
    "\n",
    "# Drop rows that has NaN values on selected columns\n",
    "earnings=Ear.dropna(subset=['estimate','reportDate'])\n",
    "\n",
    "earnings\n",
    "earnings.head()\n",
    "\n"
   ]
  },
  {
   "cell_type": "code",
   "execution_count": 3,
   "metadata": {},
   "outputs": [
    {
     "data": {
      "text/html": [
       "<div>\n",
       "<style scoped>\n",
       "    .dataframe tbody tr th:only-of-type {\n",
       "        vertical-align: middle;\n",
       "    }\n",
       "\n",
       "    .dataframe tbody tr th {\n",
       "        vertical-align: top;\n",
       "    }\n",
       "\n",
       "    .dataframe thead th {\n",
       "        text-align: right;\n",
       "    }\n",
       "</style>\n",
       "<table border=\"1\" class=\"dataframe\">\n",
       "  <thead>\n",
       "    <tr style=\"text-align: right;\">\n",
       "      <th></th>\n",
       "      <th>symbol</th>\n",
       "      <th>name</th>\n",
       "      <th>reportDate</th>\n",
       "      <th>fiscalDateEnding</th>\n",
       "      <th>estimate</th>\n",
       "      <th>currency</th>\n",
       "    </tr>\n",
       "  </thead>\n",
       "  <tbody>\n",
       "    <tr>\n",
       "      <th>0</th>\n",
       "      <td>A</td>\n",
       "      <td>Agilent Technologies Inc</td>\n",
       "      <td>2022-11-21</td>\n",
       "      <td>2022-10-31</td>\n",
       "      <td>1.3900</td>\n",
       "      <td>USD</td>\n",
       "    </tr>\n",
       "    <tr>\n",
       "      <th>1</th>\n",
       "      <td>AA</td>\n",
       "      <td>Alcoa Corp</td>\n",
       "      <td>2023-01-18</td>\n",
       "      <td>2022-12-31</td>\n",
       "      <td>0.3634</td>\n",
       "      <td>USD</td>\n",
       "    </tr>\n",
       "    <tr>\n",
       "      <th>2</th>\n",
       "      <td>AACAY</td>\n",
       "      <td>AACAY</td>\n",
       "      <td>2022-11-11</td>\n",
       "      <td>2022-09-30</td>\n",
       "      <td>0.0277</td>\n",
       "      <td>USD</td>\n",
       "    </tr>\n",
       "    <tr>\n",
       "      <th>4</th>\n",
       "      <td>AADI</td>\n",
       "      <td>Aadi Bioscience Inc</td>\n",
       "      <td>2022-11-09</td>\n",
       "      <td>2022-09-30</td>\n",
       "      <td>-0.7660</td>\n",
       "      <td>USD</td>\n",
       "    </tr>\n",
       "    <tr>\n",
       "      <th>5</th>\n",
       "      <td>AAGIY</td>\n",
       "      <td>AAGIY</td>\n",
       "      <td>2022-11-30</td>\n",
       "      <td>2022-09-30</td>\n",
       "      <td>0.0000</td>\n",
       "      <td>USD</td>\n",
       "    </tr>\n",
       "  </tbody>\n",
       "</table>\n",
       "</div>"
      ],
      "text/plain": [
       "  symbol                      name  reportDate fiscalDateEnding  estimate  \\\n",
       "0      A  Agilent Technologies Inc  2022-11-21       2022-10-31    1.3900   \n",
       "1     AA                Alcoa Corp  2023-01-18       2022-12-31    0.3634   \n",
       "2  AACAY                     AACAY  2022-11-11       2022-09-30    0.0277   \n",
       "4   AADI       Aadi Bioscience Inc  2022-11-09       2022-09-30   -0.7660   \n",
       "5  AAGIY                     AAGIY  2022-11-30       2022-09-30    0.0000   \n",
       "\n",
       "  currency  \n",
       "0      USD  \n",
       "1      USD  \n",
       "2      USD  \n",
       "4      USD  \n",
       "5      USD  "
      ]
     },
     "execution_count": 3,
     "metadata": {},
     "output_type": "execute_result"
    }
   ],
   "source": [
    "earnings_usd = earnings.loc[earnings['currency'] == 'USD']\n",
    "\n",
    "earnings_usd.head()"
   ]
  },
  {
   "cell_type": "code",
   "execution_count": 4,
   "metadata": {},
   "outputs": [
    {
     "data": {
      "text/plain": [
       "4665"
      ]
     },
     "execution_count": 4,
     "metadata": {},
     "output_type": "execute_result"
    }
   ],
   "source": [
    "len(earnings_usd)"
   ]
  },
  {
   "cell_type": "code",
   "execution_count": 11,
   "metadata": {},
   "outputs": [
    {
     "data": {
      "text/plain": [
       "2387"
      ]
     },
     "execution_count": 11,
     "metadata": {},
     "output_type": "execute_result"
    }
   ],
   "source": [
    "GREAT = earnings_usd.loc[earnings['estimate'] > 0 ]\n",
    "\n",
    "len(GREAT)"
   ]
  },
  {
   "cell_type": "markdown",
   "metadata": {},
   "source": [
    "# Data Transformation"
   ]
  },
  {
   "cell_type": "code",
   "execution_count": 5,
   "metadata": {},
   "outputs": [
    {
     "data": {
      "text/html": [
       "<div>\n",
       "<style scoped>\n",
       "    .dataframe tbody tr th:only-of-type {\n",
       "        vertical-align: middle;\n",
       "    }\n",
       "\n",
       "    .dataframe tbody tr th {\n",
       "        vertical-align: top;\n",
       "    }\n",
       "\n",
       "    .dataframe thead th {\n",
       "        text-align: right;\n",
       "    }\n",
       "</style>\n",
       "<table border=\"1\" class=\"dataframe\">\n",
       "  <thead>\n",
       "    <tr style=\"text-align: right;\">\n",
       "      <th></th>\n",
       "      <th>symbol</th>\n",
       "      <th>name</th>\n",
       "      <th>reportDate</th>\n",
       "      <th>estimate</th>\n",
       "    </tr>\n",
       "  </thead>\n",
       "  <tbody>\n",
       "    <tr>\n",
       "      <th>3424</th>\n",
       "      <td>KMPH</td>\n",
       "      <td>NaN</td>\n",
       "      <td>2022-11-10</td>\n",
       "      <td>-0.185</td>\n",
       "    </tr>\n",
       "    <tr>\n",
       "      <th>5825</th>\n",
       "      <td>SYN</td>\n",
       "      <td>NaN</td>\n",
       "      <td>2022-11-02</td>\n",
       "      <td>-0.400</td>\n",
       "    </tr>\n",
       "  </tbody>\n",
       "</table>\n",
       "</div>"
      ],
      "text/plain": [
       "     symbol name  reportDate  estimate\n",
       "3424   KMPH  NaN  2022-11-10    -0.185\n",
       "5825    SYN  NaN  2022-11-02    -0.400"
      ]
     },
     "execution_count": 5,
     "metadata": {},
     "output_type": "execute_result"
    }
   ],
   "source": [
    "# get only the columns we need\n",
    "new_earning = earnings[['symbol','name', 'reportDate', 'estimate']]\n",
    "df = pd.DataFrame(new_earning,columns = ['symbol','name', 'reportDate', 'estimate'])\n",
    "df[df.isna().any(axis=1)]\n",
    "\n"
   ]
  },
  {
   "cell_type": "code",
   "execution_count": 6,
   "metadata": {},
   "outputs": [],
   "source": [
    "cleandf=df.drop([3424, 5825])\n"
   ]
  },
  {
   "cell_type": "code",
   "execution_count": 7,
   "metadata": {},
   "outputs": [
    {
     "name": "stderr",
     "output_type": "stream",
     "text": [
      "C:\\Users\\Jonathan\\AppData\\Local\\Temp\\ipykernel_32252\\1105244944.py:1: FutureWarning: Using short name for 'orient' is deprecated. Only the options: ('dict', list, 'series', 'split', 'records', 'index') will be used in a future version. Use one of the above to silence this warning.\n",
      "  sDict = cleandf.to_dict('record')\n"
     ]
    }
   ],
   "source": [
    "sDict = cleandf.to_dict('record')"
   ]
  },
  {
   "cell_type": "markdown",
   "metadata": {},
   "source": [
    "## Change to js file"
   ]
  },
  {
   "cell_type": "code",
   "execution_count": 8,
   "metadata": {},
   "outputs": [],
   "source": [
    "out_file = open(\"data.json\", \"w\") \n",
    "    \n",
    "json.dump(sDict, out_file, indent = 6) \n",
    "    \n",
    "out_file.close() "
   ]
  },
  {
   "cell_type": "code",
   "execution_count": null,
   "metadata": {},
   "outputs": [],
   "source": []
  },
  {
   "cell_type": "code",
   "execution_count": null,
   "metadata": {},
   "outputs": [],
   "source": []
  }
 ],
 "metadata": {
  "kernelspec": {
   "display_name": "Python 3.9.12 64-bit ('anaconda3')",
   "language": "python",
   "name": "python3"
  },
  "language_info": {
   "codemirror_mode": {
    "name": "ipython",
    "version": 3
   },
   "file_extension": ".py",
   "mimetype": "text/x-python",
   "name": "python",
   "nbconvert_exporter": "python",
   "pygments_lexer": "ipython3",
   "version": "3.9.12"
  },
  "orig_nbformat": 4,
  "vscode": {
   "interpreter": {
    "hash": "c74fba7c15ebc86642b8485d63c22a65a770b3dce4b11deeedd1188b19a1d92b"
   }
  }
 },
 "nbformat": 4,
 "nbformat_minor": 2
}
